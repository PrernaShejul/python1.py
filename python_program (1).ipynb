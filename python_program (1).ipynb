{
  "nbformat": 4,
  "nbformat_minor": 0,
  "metadata": {
    "colab": {
      "provenance": []
    },
    "kernelspec": {
      "name": "python3",
      "display_name": "Python 3"
    },
    "language_info": {
      "name": "python"
    }
  },
  "cells": [
    {
      "cell_type": "code",
      "execution_count": null,
      "metadata": {
        "colab": {
          "base_uri": "https://localhost:8080/"
        },
        "id": "N02sA3W8H6a_",
        "outputId": "617421e4-593f-49cc-db0b-15945ba8b148"
      },
      "outputs": [
        {
          "output_type": "stream",
          "name": "stdout",
          "text": [
            "hii\n"
          ]
        }
      ],
      "source": [
        "# prompt: print(\"hii\")\n",
        "\n",
        "print(\"hii\")\n",
        "\n"
      ]
    },
    {
      "cell_type": "code",
      "source": [
        "# integer\n",
        "# integer is immutable\n",
        "print(1,2,3,4)"
      ],
      "metadata": {
        "colab": {
          "base_uri": "https://localhost:8080/"
        },
        "id": "93C1LSTRIKiG",
        "outputId": "702f0668-f3b6-47b3-fb1b-bbcdc78f2b12"
      },
      "execution_count": null,
      "outputs": [
        {
          "output_type": "stream",
          "name": "stdout",
          "text": [
            "1 2 3 4\n"
          ]
        }
      ]
    },
    {
      "cell_type": "code",
      "source": [
        "# flote : immutable\n",
        "print(3.2,33.2)"
      ],
      "metadata": {
        "colab": {
          "base_uri": "https://localhost:8080/"
        },
        "id": "utkVdu99KJjN",
        "outputId": "055e527b-031b-40bb-8d95-6cfdfcc0d765"
      },
      "execution_count": null,
      "outputs": [
        {
          "output_type": "stream",
          "name": "stdout",
          "text": [
            "3.2 33.2\n"
          ]
        }
      ]
    },
    {
      "cell_type": "code",
      "source": [
        "# a string immutabl\n",
        "# \\n is used for next text line\n",
        "a = 3\n",
        "a = 4\n",
        "print(\"my name is shambhu\",\"\\n\",\"i am a student\",\"&my roll no is:\",a)\n",
        "# above code having issue of extra space so format string should used\n",
        "print(f\"my name is shambhu\\ni am a student & my roll no is:a{a}\")\n",
        "b = 10/3\n",
        "print(f\"{b}\")"
      ],
      "metadata": {
        "colab": {
          "base_uri": "https://localhost:8080/"
        },
        "id": "vBWzzA9DKmuc",
        "outputId": "1e84a831-edf7-415d-bf6f-09de98fbe5c3"
      },
      "execution_count": null,
      "outputs": [
        {
          "output_type": "stream",
          "name": "stdout",
          "text": [
            "my name is shambhu \n",
            " i am a student &my roll no is: 4\n",
            "my name is shambhu\n",
            "i am a student & my roll no is:a4\n",
            "3.3333333333333335\n"
          ]
        }
      ]
    },
    {
      "cell_type": "code",
      "source": [
        "# list : mutable,can be heatrogenous,indixing\n",
        "l = [12,\"shambhu\",\"@\",3.4]\n",
        "# print(l)\n",
        "# indexing\n",
        "# access first element of list\n",
        "print(l[0])\n",
        "# access second element of list\n",
        "print(l[1])\n",
        "# access third element of list\n",
        "print(l[2])\n",
        "# access last element of  list\n",
        "print(l[-1])\n",
        "# checking the for loop for range\n",
        "for i in range(4):\n",
        "  print(i)\n",
        "# print list in desired way\n",
        "for i in range(len(l)):\n",
        "  print(f\"the element number {i+1} of given list is: {l[i]}\")\n",
        "\n",
        "  l[0] = \",my mail id is:\"\n",
        "  l[-1] = \"shambhu@gmail.com\"\n",
        "  print(l)\n",
        "\n"
      ],
      "metadata": {
        "colab": {
          "base_uri": "https://localhost:8080/"
        },
        "id": "KK8rJg26QcDK",
        "outputId": "bd9eca1c-f09a-4b5c-a6eb-33ff9faa12fd"
      },
      "execution_count": null,
      "outputs": [
        {
          "output_type": "stream",
          "name": "stdout",
          "text": [
            "12\n",
            "shambhu\n",
            "@\n",
            "3.4\n",
            "0\n",
            "1\n",
            "2\n",
            "3\n",
            "the element number 1 of given list is: 12\n",
            "[',my mail id is:', 'shambhu', '@', 'shambhu@gmail.com']\n",
            "the element number 2 of given list is: shambhu\n",
            "[',my mail id is:', 'shambhu', '@', 'shambhu@gmail.com']\n",
            "the element number 3 of given list is: @\n",
            "[',my mail id is:', 'shambhu', '@', 'shambhu@gmail.com']\n",
            "the element number 4 of given list is: shambhu@gmail.com\n",
            "[',my mail id is:', 'shambhu', '@', 'shambhu@gmail.com']\n"
          ]
        }
      ]
    },
    {
      "cell_type": "code",
      "source": [
        "# touple\n",
        "T = (7,\"shambhu\",\"@\",3.14)\n",
        "print(T[-1])\n",
        "# T[0] = 5 this  assingment cant be done\n",
        "print(T)"
      ],
      "metadata": {
        "colab": {
          "base_uri": "https://localhost:8080/"
        },
        "id": "q-8oTlK1Wk-A",
        "outputId": "7e7861b1-29ad-4565-d8f2-eed58b577d8e"
      },
      "execution_count": null,
      "outputs": [
        {
          "output_type": "stream",
          "name": "stdout",
          "text": [
            "3.14\n",
            "(7, 'shambhu', '@', 3.14)\n"
          ]
        }
      ]
    },
    {
      "cell_type": "code",
      "source": [
        "\n",
        "# set : mutable , hetrogenous,indexing\n",
        "S ={1,2,\"a\",\"roy\",3.14}\n",
        "# S[-1]= 20\n",
        "print(s)"
      ],
      "metadata": {
        "colab": {
          "base_uri": "https://localhost:8080/"
        },
        "id": "e_bQYWQgaNll",
        "outputId": "1b000bbb-63c7-4236-caba-4200f510ace9"
      },
      "execution_count": null,
      "outputs": [
        {
          "output_type": "stream",
          "name": "stdout",
          "text": [
            "{1, 2, 3.14, 'a', 'roy'}\n"
          ]
        }
      ]
    },
    {
      "cell_type": "code",
      "source": [
        "l_zeal = [2,5,76,3,9,6,23,65]\n",
        "print(f\"length of list is {len(l_zeal)}\")\n",
        "# creation of list for set\n",
        "s_unique_zeal = set(l_zeal)\n",
        "print(f\"set creation for given set is: {len(s_unique_zeal)}\")\n",
        "# creation of set for list\n",
        "l_unique_zeal = list(s_unique_zeal)\n",
        "print(\"list creation for given set {len(l_unique_zeal)}\")\n",
        "print(f\"the modifaction list has (len(l_unique_zeal)) elemens which has no duplicat & and the shorted list is (l_unique_zeal)\")"
      ],
      "metadata": {
        "colab": {
          "base_uri": "https://localhost:8080/"
        },
        "id": "ec80xSEeaN41",
        "outputId": "396f3f21-a242-4d2c-9005-1c3d569534d5"
      },
      "execution_count": null,
      "outputs": [
        {
          "output_type": "stream",
          "name": "stdout",
          "text": [
            "length of list is 8\n",
            "set creation for given set is: 8\n",
            "list creation for given set {len(l_unique_zeal)}\n",
            "the modifaction list has (len(l_unique_zeal)) elemens which has no duplicat & and the shorted list is (l_unique_zeal)\n"
          ]
        }
      ]
    },
    {
      "cell_type": "code",
      "source": [
        "# add or remove element from set\n",
        "my_set = {1,2,3,4,5}\n",
        "my_set.add(6)\n",
        "print(my_set)\n",
        "my_set.remove(3)\n",
        "print(my_set)"
      ],
      "metadata": {
        "colab": {
          "base_uri": "https://localhost:8080/"
        },
        "id": "bg2pPILLf1ml",
        "outputId": "cfa2e639-c0e4-4b32-9989-b17857bd7c8f"
      },
      "execution_count": null,
      "outputs": [
        {
          "output_type": "stream",
          "name": "stdout",
          "text": [
            "{1, 2, 3, 4, 5, 6}\n",
            "{1, 2, 4, 5, 6}\n"
          ]
        }
      ]
    },
    {
      "cell_type": "code",
      "source": [
        "# add or remove element in list\n",
        "l_empty = [1,2,3]\n",
        "l_other = [5,6,7]\n",
        "l_extend = [8,9,10]\n",
        "l_empty.append([11,12,13])\n",
        "print(f\"list after adding '4' is {l_empty}\")\n",
        "\n"
      ],
      "metadata": {
        "colab": {
          "base_uri": "https://localhost:8080/"
        },
        "id": "nnWP7SINlS8w",
        "outputId": "d5f398d7-0985-4862-8f65-dcf16c848c26"
      },
      "execution_count": null,
      "outputs": [
        {
          "output_type": "stream",
          "name": "stdout",
          "text": [
            "list after adding '4' is [1, 2, 3, [11, 12, 13]]\n"
          ]
        }
      ]
    },
    {
      "cell_type": "code",
      "source": [
        "s_first = {1,2,3,4,5,6,7,8,9}\n",
        "s_second = {2,4,6,8,0,1}\n",
        "print(s_first.symmetric_difference(s_second))\n",
        "print(s_first.difference(s_second))\n",
        "print(s_second.difference(s_first))\n",
        "print(s_first.intersection(s_second))\n",
        "print(s_first.union(s_second))\n",
        "print(s_first.union(s_second))"
      ],
      "metadata": {
        "colab": {
          "base_uri": "https://localhost:8080/"
        },
        "id": "v3zsXrBMnY1W",
        "outputId": "caaca96a-dce9-4521-d9ea-30b5cc126713"
      },
      "execution_count": null,
      "outputs": [
        {
          "output_type": "stream",
          "name": "stdout",
          "text": [
            "{0, 3, 5, 7, 9}\n",
            "{9, 3, 5, 7}\n",
            "{0}\n",
            "{1, 2, 4, 6, 8}\n",
            "{0, 1, 2, 3, 4, 5, 6, 7, 8, 9}\n",
            "{0, 1, 2, 3, 4, 5, 6, 7, 8, 9}\n"
          ]
        }
      ]
    },
    {
      "cell_type": "code",
      "source": [
        "\n"
      ],
      "metadata": {
        "id": "kWS9Xw7Hrh7I"
      },
      "execution_count": null,
      "outputs": []
    },
    {
      "cell_type": "code",
      "source": [],
      "metadata": {
        "id": "nFclp5hXzgHU"
      },
      "execution_count": null,
      "outputs": []
    }
  ]
}